{
 "cells": [
  {
   "cell_type": "code",
   "execution_count": 1,
   "metadata": {},
   "outputs": [
    {
     "data": {
      "text/plain": [
       "<module 'requests' from 'C:\\\\Users\\\\bstan\\\\anaconda3\\\\envs\\\\intro\\\\lib\\\\site-packages\\\\requests\\\\__init__.py'>"
      ]
     },
     "execution_count": 1,
     "metadata": {},
     "output_type": "execute_result"
    }
   ],
   "source": [
    "import requests\n",
    "\n",
    "requests"
   ]
  },
  {
   "cell_type": "code",
   "execution_count": 14,
   "metadata": {},
   "outputs": [],
   "source": [
    "\n",
    "r = requests.get('https://api.openbrewerydb.org/breweries?by_city=Chicago')\n"
   ]
  },
  {
   "cell_type": "code",
   "execution_count": 18,
   "metadata": {},
   "outputs": [
    {
     "name": "stdout",
     "output_type": "stream",
     "text": [
      "5 Rabbit Cerveceria Inc 6398 W 74th St Chicago Illinois\n",
      "Alarmist Brewing Co 4055 W Peterson Ave Ste REAR Chicago Illinois\n",
      "Aleman Brewing 3304 N Knox Ave Chicago Illinois\n",
      "All Rise Brewing Co 235 N Ashland Ave Chicago Illinois\n",
      "Argus Brewery 11314 S Front Ave Chicago Illinois\n",
      "Ballast Point Brewing Company None Chicago Illinois\n",
      "Band Of Bohemia 4710 N Ravenswood Ave Chicago Illinois\n",
      "Begyle Brewing 1800 W Cuyler Ave Ste 1E Chicago Illinois\n",
      "Birreria @ Eataly 43 E Ohio St Chicago Illinois\n",
      "Buchanan Craft LLC None Chicago Illinois\n",
      "Burnt City Brewing 2747 N Lincoln Ave Chicago Illinois\n",
      "Chicago Beer Company 1140 W Randolph St Chicago Illinois\n",
      "Corridor Brewery & Provisions 3446 N Southport Ave Chicago Illinois\n",
      "Cruz Blanca Brewery 904 W Randolph St Chicago Illinois\n",
      "Dovetail Brewery 1800 W Belle Plaine Ave Chicago Illinois\n",
      "Dryhop Brewers 3155 N Broadway St Chicago Illinois\n",
      "Empirical Brewery 1801 W Foster Ave Chicago Illinois\n",
      "Eris Brewery And Cider House 4240 W Irving Park Rd Chicago Illinois\n",
      "Finch Beer Company 1800 W Walnut St Chicago Illinois\n",
      "Forbidden Root Restaurant & Brewery 1746 W Chicago Ave Chicago Illinois\n"
     ]
    }
   ],
   "source": [
    "for b in r.json():\n",
    "    print(b['name'], b['street'], b['city'], b['state'])"
   ]
  },
  {
   "cell_type": "code",
   "execution_count": null,
   "metadata": {},
   "outputs": [],
   "source": []
  }
 ],
 "metadata": {
  "kernelspec": {
   "display_name": "Python 3",
   "language": "python",
   "name": "python3"
  },
  "language_info": {
   "codemirror_mode": {
    "name": "ipython",
    "version": 3
   },
   "file_extension": ".py",
   "mimetype": "text/x-python",
   "name": "python",
   "nbconvert_exporter": "python",
   "pygments_lexer": "ipython3",
   "version": "3.8.5"
  }
 },
 "nbformat": 4,
 "nbformat_minor": 4
}
